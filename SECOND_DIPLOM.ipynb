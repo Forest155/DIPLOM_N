version https://git-lfs.github.com/spec/v1
oid sha256:24b3d3e122aad7ca6608fd09ff84d264148f9f024ec6b643a29552ef85b0b594
size 1100861
